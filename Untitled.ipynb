{
 "cells": [
  {
   "cell_type": "markdown",
   "id": "ebb836ff-0977-436d-8efb-9a4dafbd25fe",
   "metadata": {},
   "source": [
    "# Como podemos criar uma cidade mais justa? Uma analise do plano diretor"
   ]
  },
  {
   "cell_type": "markdown",
   "id": "334c8d57-6b4a-479b-9b7f-df0b3951a79f",
   "metadata": {},
   "source": [
    "### COMPARAR PLANO DIRETOR DE SP COM PLANO DIRETOR DE LONDRES, PARIS, AMSTERDAM E ANALISAR QUALIDADE DE VIDA COM ZONEAMENTO\n"
   ]
  },
  {
   "cell_type": "markdown",
   "id": "343109b5-3d06-4e7e-a09e-8866eca8b8f0",
   "metadata": {},
   "source": [
    "### Hipotese\n",
    "\n",
    "olhos na rua, jane jacobs, edificacoes de uso misto, bairros residenciais de alto poder de compra sao os mais lucrativos a uma cidade? seguranca com tipo de zoneamento, idh com porcentagem de zoneamento de certo tipo, idh de bairros e qual seu tipo de zoneamento (baixo idh, qual zoneamento? alto id, qual zoneamento?"
   ]
  },
  {
   "cell_type": "code",
   "execution_count": null,
   "id": "da3db954-f65a-49bf-8c8e-2d5fd2dbe120",
   "metadata": {},
   "outputs": [],
   "source": []
  }
 ],
 "metadata": {
  "kernelspec": {
   "display_name": "Python 3 (ipykernel)",
   "language": "python",
   "name": "python3"
  },
  "language_info": {
   "codemirror_mode": {
    "name": "ipython",
    "version": 3
   },
   "file_extension": ".py",
   "mimetype": "text/x-python",
   "name": "python",
   "nbconvert_exporter": "python",
   "pygments_lexer": "ipython3",
   "version": "3.10.12"
  }
 },
 "nbformat": 4,
 "nbformat_minor": 5
}
